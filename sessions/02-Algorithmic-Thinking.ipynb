{
 "cells": [
  {
   "cell_type": "markdown",
   "metadata": {},
   "source": [
    "![BTS](img/Logo-BTS.jpg)\n",
    "\n",
    "# Session 2: Algorithmic Thinking\n",
    "\n",
    "### Manuel Kaufmann <manuel.kaufmann@bts.tech> - Python Support Classes (2019-01-11)\n"
   ]
  },
  {
   "cell_type": "markdown",
   "metadata": {},
   "source": [
    "## Considerations\n",
    "\n",
    "1. We won't have exams in the whole course.\n",
    "1. The only way to have a self guide on the course is by doing _all the exercise_ at home.\n",
    "1. Most of theory is on the material sent to you and the one provided here.\n",
    "1. In possible, all the classes will be a mixture between practice and theory explained from what it can raise from the exercise.\n",
    "1. Read **and** code at home is the only way to start feeling comfortable with the knowledge. Only reading is not enough.\n",
    "1. This course is not about following a process, apply a mathematical method/model or similar, but thinking and designing a \"custom\" solution based on your own creativity to find it."
   ]
  },
  {
   "cell_type": "markdown",
   "metadata": {},
   "source": [
    "## How to Think like a Computer Scientist\n",
    "\n",
    "https://interactivepython.org/courselib/static/thinkcspy/index.html"
   ]
  },
  {
   "cell_type": "markdown",
   "metadata": {},
   "source": [
    "----"
   ]
  },
  {
   "cell_type": "markdown",
   "metadata": {},
   "source": [
    "## Following Up\n",
    "\n",
    "### Exercise 1: CSV\n",
    "\n",
    "1. Present each solution.\n",
    "1. Discuss the solution proposed.\n",
    "1. Clean code.\n",
    "1. Re-write the code to comply with the statement:\n",
    "   * use `csv`\n",
    "   * do not use `csv` module nor `pandas`\n",
    "   * sanitize \"present\" column\n",
    "   * use functions to modularize our code\n",
    "\n",
    "\n",
    "### Exercise 2: Selenium\n",
    "\n",
    "There are some other concepts that I want to work on before continuing with this exercise. Although, it's a _good example_ of automatization of processes.\n",
    "\n",
    "\n",
    "### Exercise 3: Automate a simple task\n",
    "\n",
    "Let's discuss the proposed ideas and grow from there. If we find that any of those are factible, we will create an exercise around it."
   ]
  },
  {
   "cell_type": "code",
   "execution_count": null,
   "metadata": {},
   "outputs": [],
   "source": []
  },
  {
   "cell_type": "markdown",
   "metadata": {},
   "source": [
    "----"
   ]
  },
  {
   "cell_type": "markdown",
   "metadata": {},
   "source": [
    "## Exercise 1: Simple Alarm\n",
    "\n",
    "We want to build a simple alarm to wake us up or alert about any kind of event.\n",
    "\n",
    "The use case is very simple, since there are not too many features on this alarm. Basically,\n",
    "\n",
    "1. The program starts\n",
    "1. The user has to input the date and time of the alarm plus a description/note about the reminder\n",
    "1. Once the date and time are met the program should show the message: \"Hey remember to do: {description}!\"\n",
    "1. Finishes\n",
    "\n",
    "This _looks simple_ but we want to write it in a very **robust** way. I can't fail, because we won't allow ourselves to loose those meetings: \"We have to write software in a way that we can trust on it for our own life\".\n",
    "\n",
    "### Modifications\n",
    "\n",
    "\n",
    "1. If the user inputs something that it's not correct, the program should communicate this to the user in a friendly way.\n",
    "1. Allow multiple reminders. After the first one is entered, the user has to be presented the input to add another one.\n",
    "1. Make the reminders persistent on time. This way, if the program is closed, we can recover them once it's restarted.\n",
    "1. Add some extra code to make the debugging process easy: we don't want to wait until the date and time to know if the program will fail.\n",
    "1. Allow the user to input the number of minutes he/she wanted to be notified _before_ the event's date and time.\n",
    "\n",
    "_EXTRA: consider the version that stores the reminders and persist them on time. How we can do to allow adding more reminders (by manually editing the file or by running another instance of our software) and make our program to consider the new ones also? Like a continous \"refresh\" of the data._\n",
    "\n",
    "\n",
    "### Notes\n",
    "\n",
    "1. The program will run only in the terminal (no graphical interface)\n",
    "1. Write down the steps of your design before starting writing the code\n",
    "1. Consider using functions to encapsulate code and make it more readble\n",
    "1. Do not use `pandas` or `matplotlib` ;)\n",
    "\n",
    "\n",
    "### Resources\n",
    "\n",
    "* `datetime` module: https://docs.python.org/3/library/datetime.html\n",
    "* `time.sleep` function: https://docs.python.org/3/library/time.html#time.sleep\n",
    "* `pickle` module: https://docs.python.org/3/library/pickle.html\n",
    "* `json` module: https://docs.python.org/3/library/json.html\n",
    "* `csv` module: https://docs.python.org/3/library/csv.html\n",
    "* `KeyboardInterrupt` exception: https://docs.python.org/3/library/exceptions.html#KeyboardInterrupt\n",
    "* `input` function: https://docs.python.org/3/library/functions.html#input"
   ]
  },
  {
   "cell_type": "code",
   "execution_count": null,
   "metadata": {},
   "outputs": [],
   "source": []
  }
 ],
 "metadata": {
  "kernelspec": {
   "display_name": "Python 3",
   "language": "python",
   "name": "python3"
  },
  "language_info": {
   "codemirror_mode": {
    "name": "ipython",
    "version": 3
   },
   "file_extension": ".py",
   "mimetype": "text/x-python",
   "name": "python",
   "nbconvert_exporter": "python",
   "pygments_lexer": "ipython3",
   "version": "3.6.7"
  }
 },
 "nbformat": 4,
 "nbformat_minor": 2
}
