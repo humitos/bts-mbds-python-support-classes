{
 "cells": [
  {
   "cell_type": "markdown",
   "metadata": {},
   "source": [
    "![BTS](img/Logo-BTS.jpg)\n",
    "\n",
    "# Session 1: Initial concepts and planning\n",
    "\n",
    "### Manuel Kaufmann <manuel.kaufmann@bts.tech> - Python Support Classes (2019-01-08)\n"
   ]
  },
  {
   "cell_type": "markdown",
   "metadata": {},
   "source": [
    "## Introduction\n",
    "\n",
    "1. Personal presentation\n",
    "1. What did you read from the material?\n",
    "1. What did you learn?\n",
    "1. Was it easy?\n",
    "1. What were the new concepts that your find interesting?\n",
    "\n"
   ]
  },
  {
   "cell_type": "markdown",
   "metadata": {},
   "source": [
    "## Interactive interpreter\n",
    "\n",
    "Python Official Tutorial: https://docs.python.org/3/tutorial/interpreter.html\n",
    "\n",
    "----\n",
    "\n",
    "1. Open the interactive interpreter\n",
    "1. Review some concepts about types (int, string, tuple, list, dict)\n",
    "   1. Slices\n",
    "   1. Append\n",
    "   1. Indexing\n",
    "   1. Mutable/immutable (`.sort` and `sorted()`)\n",
    "1. Create a function that take two numbers and divide A by B\n",
    "   1. What happen if we pass 0 as B?\n",
    "   1. How we can handle that case?\n",
    "1. Exception explanation\n",
    "   1. What are the useful to?\n",
    "   1. How we know what exceptions our code can raise?\n",
    "1. Modules\n",
    "   1. Import modules from standard library\n",
    "   1. Use `collections.Counter`\n",
    "   1. Use random (`randint`, `choice`, etc)\n",
    "1. help()\n",
    "1. Open a file and write some data on it\n",
    "   1. Open the same file and _append_ more data\n",
    "   1. Replace all the data with new data\n",
    "   1. Read the data from the file\n",
    "   1. Read the data twice without re-open the file (`.seek`)"
   ]
  },
  {
   "cell_type": "code",
   "execution_count": null,
   "metadata": {},
   "outputs": [],
   "source": []
  },
  {
   "cell_type": "markdown",
   "metadata": {},
   "source": [
    "## Exercise 1: CSV\n",
    "\n",
    "We have a list of students from a course (`data/attendees.csv`) and we want to do a raffle to give a book as a gift.\n",
    "\n",
    "To do this, we want to,\n",
    "\n",
    "1. Load all the names\n",
    "1. Keep only the ones that were presents\n",
    "1. Shuffle the list\n",
    "1. Pick one name randomly\n",
    "\n",
    "Things to consider,\n",
    "\n",
    "1. Did you check that `present` column was sanitized? How we can consider different human input typos?\n",
    "1. How we can do to also filter the list by age and only keep people between 18 and 20 years old?\n",
    "1. Instead of picking randomly, how we can sort the list by `name` and get the first one? the last one? and middle one?\n",
    "\n",
    "_Hint: take a look at `collections.Counter` and decide where it could be useful and why._\n",
    "\n",
    "_NOTE: this exercise has to be done using the `csv` module and without using the `csv` module. How we can write this in a modular way that allow us to not rewrite the whole code just because of this?_"
   ]
  },
  {
   "cell_type": "code",
   "execution_count": null,
   "metadata": {},
   "outputs": [],
   "source": []
  },
  {
   "cell_type": "markdown",
   "metadata": {},
   "source": [
    "## Exercise 2: Selenium\n",
    "\n",
    "* Selenium Official documentation: https://www.seleniumhq.org/docs/\n",
    "  * Drivers:\n",
    "    1. Firefox: https://www.mozilla.org/en-US/firefox/new/\n",
    "    1. Google Chrome: http://chromedriver.chromium.org/downloads\n",
    "* Automate the Boring Stuff: https://automatetheboringstuff.com/chapter11/\n",
    "\n",
    "----\n",
    "\n",
    "We want to use Selenium to understand how we can automate a simple process like visiting a web, click in a link and get a value from there.\n",
    "\n",
    "In this exercise we want to,\n",
    "\n",
    "1. Visit https://python.org/\n",
    "1. Click on PyPI link from the top header\n",
    "1. Search for `sphinx`\n",
    "1. Click in the correct link that goes to the Sphinx project URL\n",
    "   1. First link\n",
    "   1. \"Python documentation generator\"\n",
    "1. Get the date of the latest release\n",
    "1. Close the browser\n",
    "\n",
    "_Hint: visit the page with your browser and use Right Click -> Inspect Element (or similar) to know `class` name or `id` or copy `CSS selector` for a particular HTML tag, etc._"
   ]
  },
  {
   "cell_type": "code",
   "execution_count": null,
   "metadata": {},
   "outputs": [],
   "source": []
  }
 ],
 "metadata": {
  "kernelspec": {
   "display_name": "Python 3",
   "language": "python",
   "name": "python3"
  },
  "language_info": {
   "codemirror_mode": {
    "name": "ipython",
    "version": 3
   },
   "file_extension": ".py",
   "mimetype": "text/x-python",
   "name": "python",
   "nbconvert_exporter": "python",
   "pygments_lexer": "ipython3",
   "version": "3.6.7"
  }
 },
 "nbformat": 4,
 "nbformat_minor": 2
}
