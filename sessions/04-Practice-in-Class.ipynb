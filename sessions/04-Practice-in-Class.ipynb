{
 "cells": [
  {
   "cell_type": "markdown",
   "metadata": {},
   "source": [
    "![BTS](img/Logo-BTS.jpg)\n",
    "\n",
    "# Session 4: Practice in Class\n",
    "\n",
    "### Manuel Kaufmann <manuel.kaufmann@bts.tech> - Python Support Classes (2019-01-18)\n"
   ]
  },
  {
   "cell_type": "markdown",
   "metadata": {},
   "source": [
    "## Following Up\n",
    "\n",
    "### Class 1, Exercise 1: CSV\n",
    "\n",
    "1. Presentation of teacher's solution.\n",
    "\n",
    "### Class 2, Exercise 1: Simple Alarm\n",
    "\n",
    "1. Present each solution.\n",
    "1. Discuss the solution proposed.\n",
    "1. Clean the code if needed.\n",
    "1. Re-write some part of the code if needed."
   ]
  },
  {
   "cell_type": "markdown",
   "metadata": {},
   "source": [
    "----"
   ]
  },
  {
   "cell_type": "markdown",
   "metadata": {},
   "source": [
    "## Practice in Class\n",
    "\n",
    "Let's continue doing \"Simple Alarm\" and \"Tweet from Terminal\".\n",
    "\n",
    "* Ask questions. We can review concepts them.\n",
    "* The modules mentioned in the documentation.\n",
    "* Think about the global solution (by writting down the steps in English) and bring potential questions you will have later about the implementation in Python.\n"
   ]
  },
  {
   "cell_type": "code",
   "execution_count": null,
   "metadata": {},
   "outputs": [],
   "source": []
  },
  {
   "cell_type": "code",
   "execution_count": null,
   "metadata": {},
   "outputs": [],
   "source": []
  },
  {
   "cell_type": "code",
   "execution_count": null,
   "metadata": {},
   "outputs": [],
   "source": []
  }
 ],
 "metadata": {
  "kernelspec": {
   "display_name": "Python 3",
   "language": "python",
   "name": "python3"
  },
  "language_info": {
   "codemirror_mode": {
    "name": "ipython",
    "version": 3
   },
   "file_extension": ".py",
   "mimetype": "text/x-python",
   "name": "python",
   "nbconvert_exporter": "python",
   "pygments_lexer": "ipython3",
   "version": "3.6.7"
  }
 },
 "nbformat": 4,
 "nbformat_minor": 2
}
