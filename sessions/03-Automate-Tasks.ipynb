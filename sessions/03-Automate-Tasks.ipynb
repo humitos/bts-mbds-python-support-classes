{
 "cells": [
  {
   "cell_type": "markdown",
   "metadata": {},
   "source": [
    "![BTS](img/Logo-BTS.jpg)\n",
    "\n",
    "# Session 3: Automate Tasks\n",
    "\n",
    "### Manuel Kaufmann <manuel.kaufmann@bts.tech> - Python Support Classes (2019-01-15)\n"
   ]
  },
  {
   "cell_type": "markdown",
   "metadata": {},
   "source": [
    "## Following Up\n",
    "\n",
    "### Class 1, Exercise 1: CSV\n",
    "\n",
    "1. Present each solution.\n",
    "1. Discuss the solution proposed.\n",
    "1. Clean code.\n",
    "1. Show a different solution.\n",
    "\n",
    "### Class 1, Exercise 2: Selenium\n",
    "\n",
    "Show the code already working as an example of what we can do with a few lines of code and a little of knowledge in our day to day.\n",
    "\n",
    "### Class 2, Exercise 1: Simple Alarm\n",
    "\n",
    "1. Present each solution.\n",
    "1. Discuss the solution proposed.\n",
    "1. Clean code.\n",
    "1. Re-write some part of the code if needed."
   ]
  },
  {
   "cell_type": "code",
   "execution_count": null,
   "metadata": {},
   "outputs": [],
   "source": []
  },
  {
   "cell_type": "markdown",
   "metadata": {},
   "source": [
    "----"
   ]
  },
  {
   "cell_type": "markdown",
   "metadata": {},
   "source": [
    "## Exercise 1: Tweet from terminal\n",
    "\n",
    "I'm lazy. I don't want to open the Browser, write twitter.com, wait for it to load, click on \"What's happening?\", write my message and click again on \"Tweet\".\n",
    "\n",
    "So, I want to create a script/program that uses my own username to tweet what we write from the terminal. Basically, our program will be called from the terminal like `python tweethis.py --message \"Hello World from Python!\"` and after it ends, the message `Hello World from Python` should appear in our twitter account.\n",
    "\n",
    "### Steps\n",
    "\n",
    "1. Open the `python-twitter` documentation and start reading it from the beginning.\n",
    "1. Create a Twitter App and get the ACCESS TOKEN and ACESS TOKEN SECRET\n",
    "1. Take a look at the tests the module has on GitHub\n",
    "1. Make your first test, by posting a tweet in your account directly from the Python interpreter (or Jupyter Notebook)\n",
    "1. Wrap everything up in functions (`main()`, `tweet_message`, etc)\n",
    "1. Use a library/module to get arguments from command line\n",
    "\n",
    "\n",
    "### Goals\n",
    "\n",
    "1. Create a full program/script (.py file _outside_ Jupyter notebook)\n",
    "1. Learn how to read documentation and follow a process\n",
    "1. Use an external module (non from the standard library)\n",
    "1. Interact with internet\n",
    "1. Deal with all the mistakes and debugging process\n",
    "1. Feel like a professional programmer and try to not drive crazy ;)\n",
    "\n",
    "\n",
    "### Resources\n",
    "\n",
    "* Twitter: https://python-twitter.readthedocs.io/en/latest/index.html\n",
    "* Accept arguments from terminal (CLI: command line interface)\n",
    "  * https://docs.python.org/3/library/sys.html: simple and easy, but not really used in real problems for this because it's kind of \"ugly\"\n",
    "  * https://docs.python.org/3/library/argparse.html: correct way of implementing CLI using the standard library\n",
    "  * https://click.palletsprojects.com/en/7.x/: external module that simplifies the creation of CLI --more robust and advanced\n"
   ]
  },
  {
   "cell_type": "code",
   "execution_count": null,
   "metadata": {},
   "outputs": [],
   "source": []
  },
  {
   "cell_type": "markdown",
   "metadata": {},
   "source": [
    "----"
   ]
  },
  {
   "cell_type": "markdown",
   "metadata": {},
   "source": [
    "## Exercise 2: Notification about goverment date\n",
    "\n",
    "> NOTE: this is a real worl problem.\n",
    "\n",
    "I have Argentinian Driver License and Spain has an agreement with Argentina that allows me to \"change\" my Argentinian Driver License for a Spanish one. There is a law for this.\n",
    "\n",
    "It's supposed that the process is simple. You have to,\n",
    "\n",
    "1. Request a date using this web page: https://sedeapl.dgt.gob.es/WEB_NCIT_CONSULTA/solicitarCita.faces\n",
    "1. Indicate where you want to do the paperwork and what type of\n",
    "1. Enter some personal data\n",
    "1. Some available dates are presented\n",
    "1. Select the date\n",
    "1. Go to the office on that date\n",
    "\n",
    "The problem is that if you check for Barcelona, you will see that the next available date is in about 6 months. So, we want to know which is the city with the close available date for this paperwork.\n",
    "\n",
    "### Resources\n",
    "\n",
    "* https://splinter.readthedocs.io/en/latest/index.html\n",
    "* https://www.seleniumhq.org/"
   ]
  },
  {
   "cell_type": "code",
   "execution_count": null,
   "metadata": {},
   "outputs": [],
   "source": []
  }
 ],
 "metadata": {
  "kernelspec": {
   "display_name": "Python 3",
   "language": "python",
   "name": "python3"
  },
  "language_info": {
   "codemirror_mode": {
    "name": "ipython",
    "version": 3
   },
   "file_extension": ".py",
   "mimetype": "text/x-python",
   "name": "python",
   "nbconvert_exporter": "python",
   "pygments_lexer": "ipython3",
   "version": "3.6.7"
  }
 },
 "nbformat": 4,
 "nbformat_minor": 2
}
